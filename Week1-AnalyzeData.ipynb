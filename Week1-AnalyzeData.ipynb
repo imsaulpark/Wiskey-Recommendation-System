{
 "cells": [
  {
   "cell_type": "code",
   "execution_count": 1,
   "metadata": {},
   "outputs": [],
   "source": [
    "import pandas as pd\n",
    "import numpy as np\n",
    "import matplotlib"
   ]
  },
  {
   "cell_type": "code",
   "execution_count": 2,
   "metadata": {},
   "outputs": [
    {
     "name": "stdout",
     "output_type": "stream",
     "text": [
      "(2247, 7)\n",
      "['Unnamed: 0', 'name', 'category', 'review.point', 'price', 'currency', 'description']\n"
     ]
    },
    {
     "data": {
      "text/html": [
       "<div>\n",
       "<style scoped>\n",
       "    .dataframe tbody tr th:only-of-type {\n",
       "        vertical-align: middle;\n",
       "    }\n",
       "\n",
       "    .dataframe tbody tr th {\n",
       "        vertical-align: top;\n",
       "    }\n",
       "\n",
       "    .dataframe thead th {\n",
       "        text-align: right;\n",
       "    }\n",
       "</style>\n",
       "<table border=\"1\" class=\"dataframe\">\n",
       "  <thead>\n",
       "    <tr style=\"text-align: right;\">\n",
       "      <th></th>\n",
       "      <th>Unnamed: 0</th>\n",
       "      <th>name</th>\n",
       "      <th>category</th>\n",
       "      <th>review.point</th>\n",
       "      <th>price</th>\n",
       "      <th>currency</th>\n",
       "      <th>description</th>\n",
       "    </tr>\n",
       "  </thead>\n",
       "  <tbody>\n",
       "    <tr>\n",
       "      <th>0</th>\n",
       "      <td>1</td>\n",
       "      <td>Johnnie Walker Blue Label, 40%</td>\n",
       "      <td>Blended Scotch Whisky</td>\n",
       "      <td>97</td>\n",
       "      <td>225</td>\n",
       "      <td>$</td>\n",
       "      <td>Magnificently powerful and intense. Caramels, ...</td>\n",
       "    </tr>\n",
       "    <tr>\n",
       "      <th>1</th>\n",
       "      <td>2</td>\n",
       "      <td>Black Bowmore, 1964 vintage, 42 year old, 40.5%</td>\n",
       "      <td>Single Malt Scotch</td>\n",
       "      <td>97</td>\n",
       "      <td>4500.00</td>\n",
       "      <td>$</td>\n",
       "      <td>What impresses me most is how this whisky evol...</td>\n",
       "    </tr>\n",
       "    <tr>\n",
       "      <th>2</th>\n",
       "      <td>3</td>\n",
       "      <td>Bowmore 46 year old (distilled 1964), 42.9%</td>\n",
       "      <td>Single Malt Scotch</td>\n",
       "      <td>97</td>\n",
       "      <td>13500.00</td>\n",
       "      <td>$</td>\n",
       "      <td>There have been some legendary Bowmores from t...</td>\n",
       "    </tr>\n",
       "    <tr>\n",
       "      <th>3</th>\n",
       "      <td>4</td>\n",
       "      <td>Compass Box The General, 53.4%</td>\n",
       "      <td>Blended Malt Scotch Whisky</td>\n",
       "      <td>96</td>\n",
       "      <td>325</td>\n",
       "      <td>$</td>\n",
       "      <td>With a name inspired by a 1926 Buster Keaton m...</td>\n",
       "    </tr>\n",
       "    <tr>\n",
       "      <th>4</th>\n",
       "      <td>5</td>\n",
       "      <td>Chivas Regal Ultis, 40%</td>\n",
       "      <td>Blended Malt Scotch Whisky</td>\n",
       "      <td>96</td>\n",
       "      <td>160</td>\n",
       "      <td>$</td>\n",
       "      <td>Captivating, enticing, and wonderfully charmin...</td>\n",
       "    </tr>\n",
       "    <tr>\n",
       "      <th>5</th>\n",
       "      <td>6</td>\n",
       "      <td>Ardbeg Corryvreckan, 57.1%</td>\n",
       "      <td>Single Malt Scotch</td>\n",
       "      <td>96</td>\n",
       "      <td>85.00</td>\n",
       "      <td>$</td>\n",
       "      <td>Powerful, muscular, well-textured, and invigor...</td>\n",
       "    </tr>\n",
       "    <tr>\n",
       "      <th>6</th>\n",
       "      <td>7</td>\n",
       "      <td>Gold Bowmore, 1964 vintage, 42.4%</td>\n",
       "      <td>Single Malt Scotch</td>\n",
       "      <td>96</td>\n",
       "      <td>6250.00</td>\n",
       "      <td>$</td>\n",
       "      <td>Deep gold color. Surprisingly lively on the no...</td>\n",
       "    </tr>\n",
       "    <tr>\n",
       "      <th>7</th>\n",
       "      <td>8</td>\n",
       "      <td>Bowmore, 40 year old, 44.8%</td>\n",
       "      <td>Single Malt Scotch</td>\n",
       "      <td>96</td>\n",
       "      <td>11000.00</td>\n",
       "      <td>$</td>\n",
       "      <td>Definitely showing its age, but not in a bad w...</td>\n",
       "    </tr>\n",
       "    <tr>\n",
       "      <th>8</th>\n",
       "      <td>9</td>\n",
       "      <td>The Dalmore, 50 year old, 52.8%</td>\n",
       "      <td>Single Malt Scotch</td>\n",
       "      <td>96</td>\n",
       "      <td>1500.00</td>\n",
       "      <td>$</td>\n",
       "      <td>The Dalmore is one of a handful of whiskies th...</td>\n",
       "    </tr>\n",
       "    <tr>\n",
       "      <th>9</th>\n",
       "      <td>10</td>\n",
       "      <td>Glenfarclas Family Casks 1954 Cask #1260, 47.2%</td>\n",
       "      <td>Single Malt Scotch</td>\n",
       "      <td>96</td>\n",
       "      <td>3360</td>\n",
       "      <td>$</td>\n",
       "      <td>A rich amber color and elegantly oxidized note...</td>\n",
       "    </tr>\n",
       "  </tbody>\n",
       "</table>\n",
       "</div>"
      ],
      "text/plain": [
       "   Unnamed: 0                                             name  \\\n",
       "0           1                   Johnnie Walker Blue Label, 40%   \n",
       "1           2  Black Bowmore, 1964 vintage, 42 year old, 40.5%   \n",
       "2           3      Bowmore 46 year old (distilled 1964), 42.9%   \n",
       "3           4                   Compass Box The General, 53.4%   \n",
       "4           5                          Chivas Regal Ultis, 40%   \n",
       "5           6                       Ardbeg Corryvreckan, 57.1%   \n",
       "6           7               Gold Bowmore, 1964 vintage, 42.4%    \n",
       "7           8                      Bowmore, 40 year old, 44.8%   \n",
       "8           9                  The Dalmore, 50 year old, 52.8%   \n",
       "9          10  Glenfarclas Family Casks 1954 Cask #1260, 47.2%   \n",
       "\n",
       "                     category  review.point     price currency  \\\n",
       "0       Blended Scotch Whisky            97       225        $   \n",
       "1          Single Malt Scotch            97   4500.00        $   \n",
       "2          Single Malt Scotch            97  13500.00        $   \n",
       "3  Blended Malt Scotch Whisky            96       325        $   \n",
       "4  Blended Malt Scotch Whisky            96       160        $   \n",
       "5          Single Malt Scotch            96     85.00        $   \n",
       "6          Single Malt Scotch            96   6250.00        $   \n",
       "7          Single Malt Scotch            96  11000.00        $   \n",
       "8          Single Malt Scotch            96   1500.00        $   \n",
       "9          Single Malt Scotch            96      3360        $   \n",
       "\n",
       "                                         description  \n",
       "0  Magnificently powerful and intense. Caramels, ...  \n",
       "1  What impresses me most is how this whisky evol...  \n",
       "2  There have been some legendary Bowmores from t...  \n",
       "3  With a name inspired by a 1926 Buster Keaton m...  \n",
       "4  Captivating, enticing, and wonderfully charmin...  \n",
       "5  Powerful, muscular, well-textured, and invigor...  \n",
       "6  Deep gold color. Surprisingly lively on the no...  \n",
       "7  Definitely showing its age, but not in a bad w...  \n",
       "8  The Dalmore is one of a handful of whiskies th...  \n",
       "9  A rich amber color and elegantly oxidized note...  "
      ]
     },
     "execution_count": 2,
     "metadata": {},
     "output_type": "execute_result"
    }
   ],
   "source": [
    "# load dataset\n",
    "df = pd.read_csv('~/Downloads/scotch_review.csv')\n",
    "\n",
    "# data description\n",
    "print(df.shape)\n",
    "print(list(df.columns.values))\n",
    "df.head(10)"
   ]
  },
  {
   "cell_type": "code",
   "execution_count": 3,
   "metadata": {},
   "outputs": [
    {
     "name": "stdout",
     "output_type": "stream",
     "text": [
      "0\n",
      "0\n"
     ]
    }
   ],
   "source": [
    "print(len(df.loc[df['currency'] != '$'])) # Result is 0, data has only about dollar\n",
    "\n",
    "cnt = 0\n",
    "bef_idx = 0\n",
    "for cur_idx,i in enumerate(df['Unnamed: 0']):\n",
    "    if i != bef_idx+1:\n",
    "        cnt += 1\n",
    "    bef_idx += 1\n",
    "print(cnt)"
   ]
  },
  {
   "cell_type": "code",
   "execution_count": 4,
   "metadata": {},
   "outputs": [
    {
     "name": "stdout",
     "output_type": "stream",
     "text": [
      "Longmorn 16 year old, 48%                                                                          3\n",
      "Inchmurrin 18 year old, 46%                                                                        3\n",
      "Master of Malt Reference Series II, 47.5%                                                          2\n",
      "Glen Moray Elgin Classic, 40%                                                                      2\n",
      "Glenrothes Vintage Reserve, 40%                                                                    2\n",
      "Talisker 10 year old, 45.8%                                                                        2\n",
      "Chapter 7 (undisclosed Highland distillery), 55.8%                                                 2\n",
      "Glen Moray 12 year old, 40%                                                                        2\n",
      "Ledaig, 10 year old, 43%                                                                           2\n",
      "Longrow 18 year old, 46%                                                                           2\n",
      "Inchmurrin 12 year old, 46%                                                                        2\n",
      "Wemyss Malts (distilled at Clynelish) “A Day at the Coast” 14 year old, 46%                        2\n",
      "Compass Box Oak Cross, 43%                                                                         2\n",
      "Bowmore, 18 year old, 43%                                                                          2\n",
      "Compass Box The Peat Monster, 46%                                                                  2\n",
      "Glen Scotia 18 year old, 46%                                                                       2\n",
      "Aberlour 18 year old, 43%                                                                          2\n",
      "Arran 18 year old, 46%                                                                             2\n",
      "Aberlour 12 year old, 40%                                                                          2\n",
      "Benromach 15 year old, 43%                                                                         2\n",
      "Springbank, 18 year old, 46%                                                                       2\n",
      "Laphroaig Triple Wood, 48%                                                                         2\n",
      "Signatory 'Mosstowie' (distilled at Miltonduff), 27 year old, 1979 vintage, Cask # 12759, 54.1%    1\n",
      "Balblair 2001 Vintage, 46%                                                                         1\n",
      "The Exclusive Malts Islay 7 year old 2007 (cask #904), 54.6%                                       1\n",
      "Signatory (distilled at Ben Nevis), Cask #7438, 31 year old, 1975 vintage, 58.4%                   1\n",
      "Clynelish Distillers Edition 1992, 46%                                                             1\n",
      "Highland Park, Cask #691, 1983 vintage, 23 year old, 59.8%                                         1\n",
      "Bladnoch Talia 25 year old, 49.2%                                                                  1\n",
      "The Whisky Exchange Masterpieces Range (distilled at Bowmore) 1990 (18 year old), 61.6%            1\n",
      "                                                                                                  ..\n",
      "Bowmore Bourbon Cask, 1964 Vintage, 43%                                                            1\n",
      "Bruichladdich Links, Torrey Pine, 15 year old, 46%                                                 1\n",
      "Cragganmore Distillers Edition 1997, 43%                                                           1\n",
      "The Glenlivet Cellar Collection, 1967, 46%                                                         1\n",
      "Springbank Green 12 year old, 46%                                                                  1\n",
      "Bladnoch Samsara, 46.7%                                                                            1\n",
      "Signatory (distilled at Bowmore), 11 year old, 1999 vintage, 46%                                   1\n",
      "Wemyss Malts Rhubarb Royale (distilled at Benrinnes) 2001, 46%                                     1\n",
      "Tomatin Cù Bòcan 1988 Limited Edition, 51.5%                                                       1\n",
      "Lonach (distilled at Strathisla), 42 year old, 41.1%                                               1\n",
      "Murray McDavid Mission IV (distilled at Glendronach), 1974 Vintage, 46%                            1\n",
      "Macallan Masters of Photography 3rd release 1989 cask #12251, 56.6%                                1\n",
      "Douglas Laing Old Particular (distilled at Bowmore) 18 year old, 60.1%                             1\n",
      "Oban 1999 Montilla Fino Finish Distillers Edition, 43%                                             1\n",
      "Bruichladdich 1984, 43.7%                                                                          1\n",
      "Johnnie Walker Black Label 12 year old, 40%                                                        1\n",
      "Bunnahabhain Amontillado 16 year old, 54%                                                          1\n",
      "Kilchoman 2006 vintage 5 year old, 46%                                                             1\n",
      "Single Malts of Scotland (distilled at Glen Grant) 1992, 57.8%                                     1\n",
      "Glenturret The Brock Malloy Edition, 46.8%                                                         1\n",
      "Bruichladdich Black Art 05.1 1992, 48.4%                                                           1\n",
      "Douglas Laing Xtra Old Particular (distilled at Carsebridge) 50 year old 1965, 40.1%               1\n",
      "Brora 1978 35 year old (Diageo Special Release 2014), 48.6%                                        1\n",
      "Lombard Speyside, 8 year old, 43%                                                                  1\n",
      "The Glenlivet Cellar Collection, 1972 vintage, 52.3%                                               1\n",
      "J. Mossman Pink Gold Crown 18 year old, 40%                                                        1\n",
      "Glenfarclas Family Casks 1978 Cask #4004, 41.3%                                                    1\n",
      "Johnnie Walker Select Cask Rye Cask Finish, 46%                                                    1\n",
      "Glenfiddich, 1973 Vintage, Cask No. 9874, 46.5%                                                    1\n",
      "Springbank Marrying Strength 10 year old, 49.9%                                                    1\n",
      "Name: name, Length: 2223, dtype: int64\n"
     ]
    }
   ],
   "source": [
    "print(df['name'].value_counts())"
   ]
  },
  {
   "cell_type": "code",
   "execution_count": 5,
   "metadata": {},
   "outputs": [
    {
     "name": "stdout",
     "output_type": "stream",
     "text": [
      "number of duplicated rows :  24\n",
      "\n",
      "231 Longrow 18 year old, 46%\n",
      "286 Aberlour 18 year old, 43%\n",
      "352 Bowmore, 18 year old, 43%\n",
      "387 Compass Box The Peat Monster, 46%\n",
      "488 Laphroaig Triple Wood, 48%\n",
      "513 Talisker 10 year old, 45.8%\n",
      "570 Chapter 7 (undisclosed Highland distillery), 55.8%\n",
      "594 Arran 18 year old, 46%\n",
      "681 Longmorn 16 year old, 48%\n",
      "682 Longmorn 16 year old, 48%\n",
      "897 Springbank, 18 year old, 46%\n",
      "1079 Glenrothes Vintage Reserve, 40%\n",
      "1248 Glen Scotia 18 year old, 46%\n",
      "1442 Benromach 15 year old, 43%\n",
      "1559 Wemyss Malts (distilled at Clynelish) “A Day at the Coast” 14 year old, 46%\n",
      "1613 Aberlour 12 year old, 40%\n",
      "1783 Compass Box Oak Cross, 43%\n",
      "1997 Master of Malt Reference Series II, 47.5%\n",
      "2049 Inchmurrin 12 year old, 46%\n",
      "2061 Glen Moray 12 year old, 40%\n",
      "2120 Inchmurrin 18 year old, 46%\n",
      "2125 Ledaig, 10 year old, 43%\n",
      "2146 Glen Moray Elgin Classic, 40%\n",
      "2183 Inchmurrin 18 year old, 46%\n"
     ]
    }
   ],
   "source": [
    "df_duplicated = df.duplicated('name')\n",
    "print(\"number of duplicated rows : \", len(df_duplicated.loc[df_duplicated == True]), end='\\n\\n')\n",
    "for idx, is_duplicated in enumerate(df.duplicated('name')):\n",
    "    if is_duplicated == True:\n",
    "        print(idx, df['name'][idx])"
   ]
  },
  {
   "cell_type": "code",
   "execution_count": 6,
   "metadata": {
    "scrolled": true
   },
   "outputs": [
    {
     "data": {
      "text/plain": [
       "<matplotlib.axes._subplots.AxesSubplot at 0x1136c0c50>"
      ]
     },
     "execution_count": 6,
     "metadata": {},
     "output_type": "execute_result"
    }
   ],
   "source": [
    "df['review.point'].value_counts().sort_index().plot.bar()"
   ]
  },
  {
   "cell_type": "code",
   "execution_count": 7,
   "metadata": {},
   "outputs": [
    {
     "data": {
      "text/plain": [
       "<matplotlib.axes._subplots.AxesSubplot at 0x1137660f0>"
      ]
     },
     "execution_count": 7,
     "metadata": {},
     "output_type": "execute_result"
    },
    {
     "data": {
      "image/png": "[encoded data removed]",
      "text/plain": [
       "<matplotlib.figure.Figure at 0x1111d7080>"
      ]
     },
     "metadata": {},
     "output_type": "display_data"
    }
   ],
   "source": [
    "df['category'].value_counts().sort_index().plot.bar()"
   ]
  },
  {
   "cell_type": "code",
   "execution_count": 8,
   "metadata": {},
   "outputs": [
    {
     "data": {
      "text/plain": [
       "<matplotlib.axes._subplots.AxesSubplot at 0x113cddba8>"
      ]
     },
     "execution_count": 8,
     "metadata": {},
     "output_type": "execute_result"
    },
    {
     "data": {
      "image/png": "[encoded data removed]",
      "text/plain": [
       "<matplotlib.figure.Figure at 0x1137660b8>"
      ]
     },
     "metadata": {},
     "output_type": "display_data"
    }
   ],
   "source": [
    "df['price'].value_counts().sort_index().plot.line()"
   ]
  },
  {
   "cell_type": "code",
   "execution_count": 9,
   "metadata": {},
   "outputs": [
    {
     "name": "stdout",
     "output_type": "stream",
     "text": [
      "<class 'pandas.core.series.Series'>\n",
      "$15,000 or $60,000/set\n",
      "30,000\n",
      "60,000/set\n",
      "1,700\n",
      "1,100\n",
      "60,000\n",
      "3,500\n",
      "4,000\n",
      "1,100\n",
      "7,500\n",
      "1,735\n",
      "1,100\n",
      "60,000/set\n",
      "7,500\n",
      "44/liter\n",
      "1,500.00\n",
      "1,400\n",
      "60,000/set\n",
      "60,000/set\n"
     ]
    }
   ],
   "source": [
    "# X = df['price']\n",
    "# print(X.astype('float')) --> ValueError: could not convert string to float: '60,000/set'\n",
    "\n",
    "print(type(df['price']))\n",
    "for iter_price in df['price']:\n",
    "    try:\n",
    "        converted = float(iter_price)\n",
    "    except ValueError:\n",
    "        print(iter_price)"
   ]
  },
  {
   "cell_type": "code",
   "execution_count": null,
   "metadata": {},
   "outputs": [],
   "source": []
  }
 ],
 "metadata": {
  "kernelspec": {
   "display_name": "Python 3",
   "language": "python",
   "name": "python3"
  },
  "language_info": {
   "codemirror_mode": {
    "name": "ipython",
    "version": 3
   },
   "file_extension": ".py",
   "mimetype": "text/x-python",
   "name": "python",
   "nbconvert_exporter": "python",
   "pygments_lexer": "ipython3",
   "version": "3.6.5"
  }
 },
 "nbformat": 4,
 "nbformat_minor": 2
}
